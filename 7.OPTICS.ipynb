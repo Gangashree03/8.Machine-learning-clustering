{
 "cells": [
  {
   "cell_type": "code",
   "execution_count": 1,
   "id": "02f66bf0-d50b-48a8-beda-81f4d8b17444",
   "metadata": {},
   "outputs": [],
   "source": [
    "import numpy as np\n",
    "import matplotlib.pyplot as plt\n",
    "import pandas as pd"
   ]
  },
  {
   "cell_type": "code",
   "execution_count": 2,
   "id": "aae97b54-e52f-458b-aa01-8b0f86ad871b",
   "metadata": {},
   "outputs": [],
   "source": [
    "dataset=pd.read_csv('Mall_Customers.csv')"
   ]
  },
  {
   "cell_type": "code",
   "execution_count": 3,
   "id": "ab88558d-d605-466c-a45a-c9b703306665",
   "metadata": {},
   "outputs": [],
   "source": [
    "x=dataset.iloc[:,[3,4]].values"
   ]
  },
  {
   "cell_type": "code",
   "execution_count": null,
   "id": "a3490341-7f76-4d4e-8bce-379dc9003645",
   "metadata": {},
   "outputs": [],
   "source": [
    "from sklearn.cluster import OPTICS\n",
    "optics= OPTICS(eps=0.3, min_samples=5).fit(x)\n",
    "labels=optics.fit_predict(x)"
   ]
  },
  {
   "cell_type": "code",
   "execution_count": null,
   "id": "b469d9b8-8426-4e20-8922-7df0b52bd510",
   "metadata": {},
   "outputs": [],
   "source": [
    "import matplotlib.pyplot as plt\n",
    "plt.scatter(x[:, 0], x[:, 1], c=optics.labels_, cmap='viridis', marker='o', s=50, edgecolor='k')\n",
    "plt.title('OPTICS Clustering Result')\n",
    "plt.show()"
   ]
  },
  {
   "cell_type": "code",
   "execution_count": null,
   "id": "2897776b-6bd5-4457-852d-f0cd98373f4c",
   "metadata": {},
   "outputs": [],
   "source": []
  }
 ],
 "metadata": {
  "kernelspec": {
   "display_name": "Python 3 (ipykernel)",
   "language": "python",
   "name": "python3"
  },
  "language_info": {
   "codemirror_mode": {
    "name": "ipython",
    "version": 3
   },
   "file_extension": ".py",
   "mimetype": "text/x-python",
   "name": "python",
   "nbconvert_exporter": "python",
   "pygments_lexer": "ipython3",
   "version": "3.11.5"
  }
 },
 "nbformat": 4,
 "nbformat_minor": 5
}
